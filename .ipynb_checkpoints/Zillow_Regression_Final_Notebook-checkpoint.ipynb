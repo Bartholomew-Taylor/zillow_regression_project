{
 "cells": [
  {
   "cell_type": "markdown",
   "id": "817272fb",
   "metadata": {},
   "source": [
    "# Zillow Single Family Home Prediction Model\n",
    "\n",
    "## Goals \n",
    "\n",
    "### Provide insight into variables driving the value of Single Family Homes homes based on transactions that occured in 2017\n",
    "\n",
    "### Develop a model that performs better than our baseline model"
   ]
  },
  {
   "cell_type": "code",
   "execution_count": 1,
   "id": "a5314a45",
   "metadata": {},
   "outputs": [],
   "source": [
    "import warnings\n",
    "warnings.filterwarnings('ignore')\n",
    "from sklearn.metrics import precision_score\n",
    "from sklearn.metrics import accuracy_score\n",
    "from sklearn.metrics import recall_score\n",
    "from sklearn.metrics import classification_report\n",
    "from sklearn.preprocessing import MinMaxScaler\n",
    "from sklearn.preprocessing import StandardScaler\n",
    "from sklearn.preprocessing import RobustScaler\n",
    "from sklearn.model_selection import train_test_split\n",
    "from sklearn.impute import SimpleImputer\n",
    "from sklearn.linear_model import LinearRegression\n",
    "from sklearn.metrics import mean_squared_error, r2_score, explained_variance_score\n",
    "import pandas as pd\n",
    "from scipy import stats\n",
    "from pydataset import data\n",
    "import numpy as np\n",
    "import env\n",
    "import matplotlib.pyplot as plt\n",
    "import os\n",
    "import prepare\n",
    "import acquire\n",
    "import seaborn as sns\n",
    "import explore\n",
    "from math import sqrt\n",
    "from sklearn.feature_selection import SelectKBest, f_regression, RFE\n",
    "from sklearn.preprocessing import PolynomialFeatures\n",
    "from sklearn.linear_model import LassoLars\n",
    "from sklearn.linear_model import TweedieRegressor"
   ]
  },
  {
   "cell_type": "markdown",
   "id": "5df8e676",
   "metadata": {},
   "source": [
    "# Data Acquisition and Preparation\n",
    "## Zillow 2017, Single Family Home data was acquired via SQL query"
   ]
  },
  {
   "cell_type": "code",
   "execution_count": 2,
   "id": "d589b4d7",
   "metadata": {},
   "outputs": [
    {
     "data": {
      "text/html": [
       "<div>\n",
       "<style scoped>\n",
       "    .dataframe tbody tr th:only-of-type {\n",
       "        vertical-align: middle;\n",
       "    }\n",
       "\n",
       "    .dataframe tbody tr th {\n",
       "        vertical-align: top;\n",
       "    }\n",
       "\n",
       "    .dataframe thead th {\n",
       "        text-align: right;\n",
       "    }\n",
       "</style>\n",
       "<table border=\"1\" class=\"dataframe\">\n",
       "  <thead>\n",
       "    <tr style=\"text-align: right;\">\n",
       "      <th></th>\n",
       "      <th>0</th>\n",
       "      <th>1</th>\n",
       "      <th>2</th>\n",
       "      <th>3</th>\n",
       "      <th>4</th>\n",
       "    </tr>\n",
       "  </thead>\n",
       "  <tbody>\n",
       "    <tr>\n",
       "      <th>Unnamed: 0</th>\n",
       "      <td>0</td>\n",
       "      <td>1</td>\n",
       "      <td>2</td>\n",
       "      <td>3</td>\n",
       "      <td>4</td>\n",
       "    </tr>\n",
       "    <tr>\n",
       "      <th>bedroomcnt</th>\n",
       "      <td>4.0</td>\n",
       "      <td>3.0</td>\n",
       "      <td>3.0</td>\n",
       "      <td>3.0</td>\n",
       "      <td>4.0</td>\n",
       "    </tr>\n",
       "    <tr>\n",
       "      <th>bathroomcnt</th>\n",
       "      <td>2.0</td>\n",
       "      <td>2.0</td>\n",
       "      <td>2.0</td>\n",
       "      <td>2.0</td>\n",
       "      <td>3.0</td>\n",
       "    </tr>\n",
       "    <tr>\n",
       "      <th>calculatedfinishedsquarefeet</th>\n",
       "      <td>1696.0</td>\n",
       "      <td>1470.0</td>\n",
       "      <td>1450.0</td>\n",
       "      <td>1694.0</td>\n",
       "      <td>2578.0</td>\n",
       "    </tr>\n",
       "    <tr>\n",
       "      <th>taxvaluedollarcnt</th>\n",
       "      <td>252549.0</td>\n",
       "      <td>512000.0</td>\n",
       "      <td>229856.0</td>\n",
       "      <td>294026.0</td>\n",
       "      <td>426407.0</td>\n",
       "    </tr>\n",
       "    <tr>\n",
       "      <th>yearbuilt</th>\n",
       "      <td>1960.0</td>\n",
       "      <td>1957.0</td>\n",
       "      <td>1957.0</td>\n",
       "      <td>1957.0</td>\n",
       "      <td>1963.0</td>\n",
       "    </tr>\n",
       "    <tr>\n",
       "      <th>fips</th>\n",
       "      <td>6037.0</td>\n",
       "      <td>6037.0</td>\n",
       "      <td>6037.0</td>\n",
       "      <td>6037.0</td>\n",
       "      <td>6037.0</td>\n",
       "    </tr>\n",
       "    <tr>\n",
       "      <th>transactiondate</th>\n",
       "      <td>2017-01-13</td>\n",
       "      <td>2017-01-13</td>\n",
       "      <td>2017-01-13</td>\n",
       "      <td>2017-01-13</td>\n",
       "      <td>2017-01-13</td>\n",
       "    </tr>\n",
       "  </tbody>\n",
       "</table>\n",
       "</div>"
      ],
      "text/plain": [
       "                                       0           1           2           3  \\\n",
       "Unnamed: 0                             0           1           2           3   \n",
       "bedroomcnt                           4.0         3.0         3.0         3.0   \n",
       "bathroomcnt                          2.0         2.0         2.0         2.0   \n",
       "calculatedfinishedsquarefeet      1696.0      1470.0      1450.0      1694.0   \n",
       "taxvaluedollarcnt               252549.0    512000.0    229856.0    294026.0   \n",
       "yearbuilt                         1960.0      1957.0      1957.0      1957.0   \n",
       "fips                              6037.0      6037.0      6037.0      6037.0   \n",
       "transactiondate               2017-01-13  2017-01-13  2017-01-13  2017-01-13   \n",
       "\n",
       "                                       4  \n",
       "Unnamed: 0                             4  \n",
       "bedroomcnt                           4.0  \n",
       "bathroomcnt                          3.0  \n",
       "calculatedfinishedsquarefeet      2578.0  \n",
       "taxvaluedollarcnt               426407.0  \n",
       "yearbuilt                         1963.0  \n",
       "fips                              6037.0  \n",
       "transactiondate               2017-01-13  "
      ]
     },
     "execution_count": 2,
     "metadata": {},
     "output_type": "execute_result"
    }
   ],
   "source": [
    "df = acquire.get_zillow_sfr_data()\n",
    "df.head().T"
   ]
  },
  {
   "cell_type": "markdown",
   "id": "340c7fe7",
   "metadata": {},
   "source": [
    "## Null Values:\n",
    "    250 results were eliminated from the set for null values\n",
    "## Naming Conventions\n",
    "    Column names were modified for clarity\n",
    "## Outliers Removed\n",
    "    All datapoints outside of 5 standard deviations removed\n",
    "## Dataset Split into Training, Validating, and Testing Sets"
   ]
  },
  {
   "cell_type": "code",
   "execution_count": 4,
   "id": "e5c134c2",
   "metadata": {},
   "outputs": [
    {
     "data": {
      "text/plain": [
       "(38619, 6)"
      ]
     },
     "execution_count": 4,
     "metadata": {},
     "output_type": "execute_result"
    }
   ],
   "source": [
    "train, val, test = prepare.clean_prep_zillow(df)\n",
    "train.shape"
   ]
  },
  {
   "cell_type": "code",
   "execution_count": 5,
   "id": "e3ffde20",
   "metadata": {},
   "outputs": [
    {
     "data": {
      "text/html": [
       "<div>\n",
       "<style scoped>\n",
       "    .dataframe tbody tr th:only-of-type {\n",
       "        vertical-align: middle;\n",
       "    }\n",
       "\n",
       "    .dataframe tbody tr th {\n",
       "        vertical-align: top;\n",
       "    }\n",
       "\n",
       "    .dataframe thead th {\n",
       "        text-align: right;\n",
       "    }\n",
       "</style>\n",
       "<table border=\"1\" class=\"dataframe\">\n",
       "  <thead>\n",
       "    <tr style=\"text-align: right;\">\n",
       "      <th></th>\n",
       "      <th>11547</th>\n",
       "      <th>29091</th>\n",
       "      <th>19611</th>\n",
       "      <th>24109</th>\n",
       "      <th>45109</th>\n",
       "    </tr>\n",
       "  </thead>\n",
       "  <tbody>\n",
       "    <tr>\n",
       "      <th>bedroom</th>\n",
       "      <td>3.0</td>\n",
       "      <td>2.0</td>\n",
       "      <td>3.0</td>\n",
       "      <td>2.0</td>\n",
       "      <td>3.0</td>\n",
       "    </tr>\n",
       "    <tr>\n",
       "      <th>bathroom</th>\n",
       "      <td>2.0</td>\n",
       "      <td>1.0</td>\n",
       "      <td>2.0</td>\n",
       "      <td>1.0</td>\n",
       "      <td>2.0</td>\n",
       "    </tr>\n",
       "    <tr>\n",
       "      <th>sqrft</th>\n",
       "      <td>1659.0</td>\n",
       "      <td>1070.0</td>\n",
       "      <td>1085.0</td>\n",
       "      <td>1112.0</td>\n",
       "      <td>1316.0</td>\n",
       "    </tr>\n",
       "    <tr>\n",
       "      <th>tax_value</th>\n",
       "      <td>236760.0</td>\n",
       "      <td>360606.0</td>\n",
       "      <td>341328.0</td>\n",
       "      <td>372312.0</td>\n",
       "      <td>381638.0</td>\n",
       "    </tr>\n",
       "    <tr>\n",
       "      <th>year_built</th>\n",
       "      <td>1958.0</td>\n",
       "      <td>1920.0</td>\n",
       "      <td>1993.0</td>\n",
       "      <td>1949.0</td>\n",
       "      <td>1949.0</td>\n",
       "    </tr>\n",
       "    <tr>\n",
       "      <th>fips</th>\n",
       "      <td>6037.0</td>\n",
       "      <td>6037.0</td>\n",
       "      <td>6059.0</td>\n",
       "      <td>6037.0</td>\n",
       "      <td>6037.0</td>\n",
       "    </tr>\n",
       "  </tbody>\n",
       "</table>\n",
       "</div>"
      ],
      "text/plain": [
       "               11547     29091     19611     24109     45109\n",
       "bedroom          3.0       2.0       3.0       2.0       3.0\n",
       "bathroom         2.0       1.0       2.0       1.0       2.0\n",
       "sqrft         1659.0    1070.0    1085.0    1112.0    1316.0\n",
       "tax_value   236760.0  360606.0  341328.0  372312.0  381638.0\n",
       "year_built    1958.0    1920.0    1993.0    1949.0    1949.0\n",
       "fips          6037.0    6037.0    6059.0    6037.0    6037.0"
      ]
     },
     "execution_count": 5,
     "metadata": {},
     "output_type": "execute_result"
    }
   ],
   "source": [
    "train.head().T"
   ]
  },
  {
   "cell_type": "markdown",
   "id": "ec1de5cd",
   "metadata": {},
   "source": [
    "# Exploration\n",
    "## Intial Questions Guiding Exploration\n",
    "### -Does square footage influence value?\n",
    "### -Is the tax value dependent on the number of bathrooms?\n",
    "### -Is Tax value dependent on FIPS?\n",
    "### -Is Tax value dependent on the number of bedrooms?\n"
   ]
  },
  {
   "cell_type": "markdown",
   "id": "4a5cff04",
   "metadata": {},
   "source": [
    "# Square Footage and Taxable Value"
   ]
  },
  {
   "cell_type": "code",
   "execution_count": 23,
   "id": "45abd57d",
   "metadata": {
    "scrolled": false
   },
   "outputs": [
    {
     "data": {
      "image/png": "[encoded data removed]",
      "text/plain": [
       "<Figure size 1000x500 with 1 Axes>"
      ]
     },
     "metadata": {},
     "output_type": "display_data"
    }
   ],
   "source": [
    "train['sqft_bin'] = pd.qcut(train['sqrft'], 20, labels = ['1','2','3','4','5','6',\n",
    "                                                          '7','8','9','10','11','12','13','14','15',\n",
    "                                                         '16','17','18','19','20'])\n",
    "\n",
    "plt.figure(figsize=(10,5))\n",
    "plt.title('Taxable Value and Square Footage')\n",
    "\n",
    "sns.barplot(data=train, x=\"sqft_bin\", y=\"tax_value\")\n",
    "plt.xlabel('Square Footage **In 20 Tiers')\n",
    "plt.ylabel('Taxable Value')\n",
    "plt.show()"
   ]
  },
  {
   "cell_type": "code",
   "execution_count": 24,
   "id": "fc55338b",
   "metadata": {},
   "outputs": [
    {
     "data": {
      "text/plain": [
       "SpearmanrResult(correlation=0.5151300732092542, pvalue=0.0)"
      ]
     },
     "execution_count": 24,
     "metadata": {},
     "output_type": "execute_result"
    }
   ],
   "source": [
    "alpha = 0.05\n",
    "\n",
    "v_vs_sf = stats.spearmanr(train.tax_value, train.sqrft)\n",
    "v_vs_sf"
   ]
  },
  {
   "cell_type": "markdown",
   "id": "e6ac35b8",
   "metadata": {},
   "source": [
    "## Analysis\n",
    "### -Is there a correlation between tax value and sqrft?\n",
    "    Null: There is no correlation between tax value and sqrft\n",
    "    Alternate: There is a significant correlation between tax value and sqrft\n",
    "### -Spearman Correlation test strongly supports a correlation between Square Footage and Taxable Value"
   ]
  },
  {
   "cell_type": "markdown",
   "id": "966ecd5f",
   "metadata": {},
   "source": [
    "# Number of Bathrooms and Taxable Value"
   ]
  },
  {
   "cell_type": "code",
   "execution_count": 39,
   "id": "5056e8d0",
   "metadata": {
    "scrolled": true
   },
   "outputs": [
    {
     "data": {
      "text/plain": [
       "Text(0, 0.5, 'Taxable Value')"
      ]
     },
     "execution_count": 39,
     "metadata": {},
     "output_type": "execute_result"
    },
    {
     "data": {
      "image/png": "[encoded data removed]",
      "text/plain": [
       "<Figure size 640x480 with 1 Axes>"
      ]
     },
     "metadata": {},
     "output_type": "display_data"
    }
   ],
   "source": [
    "\n",
    "\n",
    "plt.title('Number of Bathrooms and Square Footage')\n",
    "sns.barplot(data=train, x=\"bathroom\", y=\"tax_value\")\n",
    "\n",
    "plt.xlabel('Number of Bathrooms')\n",
    "plt.ylabel('Taxable Value')\n"
   ]
  },
  {
   "cell_type": "markdown",
   "id": "82b2db17",
   "metadata": {},
   "source": [
    "## Is the tax value dependent on the number of bathrooms?\n",
    "    Null: Tax value and the number of bathrooms are independent of one another.\n",
    "    Alternate: The two values are dependent on each other."
   ]
  },
  {
   "cell_type": "code",
   "execution_count": 41,
   "id": "7ab8a5b0",
   "metadata": {
    "scrolled": true
   },
   "outputs": [
    {
     "data": {
      "text/plain": [
       "Ttest_indResult(statistic=228.74788437149323, pvalue=0.0)"
      ]
     },
     "execution_count": 41,
     "metadata": {},
     "output_type": "execute_result"
    }
   ],
   "source": [
    "stats.ttest_ind(train.tax_value, train.bathroom, alternative = 'two-sided')"
   ]
  },
  {
   "cell_type": "markdown",
   "id": "c0f68636",
   "metadata": {},
   "source": [
    "### -T-Test Correlation test strongly supports a correlation between Square Footage and Taxable Value\n"
   ]
  },
  {
   "cell_type": "markdown",
   "id": "ce1938fb",
   "metadata": {},
   "source": [
    "# FIPS and Tax Value"
   ]
  },
  {
   "cell_type": "code",
   "execution_count": 45,
   "id": "d0f513bb",
   "metadata": {
    "scrolled": true
   },
   "outputs": [
    {
     "data": {
      "text/plain": [
       "Text(0, 0.5, 'Taxable Value')"
      ]
     },
     "execution_count": 45,
     "metadata": {},
     "output_type": "execute_result"
    },
    {
     "data": {
      "image/png": "[encoded data removed]",
      "text/plain": [
       "<Figure size 640x480 with 1 Axes>"
      ]
     },
     "metadata": {},
     "output_type": "display_data"
    }
   ],
   "source": [
    "plt.title('FIPS and Square Footage')\n",
    "sns.barplot(data=train, x=\"fips\", y=\"tax_value\")\n",
    "\n",
    "plt.xlabel('FIPS')\n",
    "plt.ylabel('Taxable Value')"
   ]
  },
  {
   "cell_type": "code",
   "execution_count": 46,
   "id": "44c872f8",
   "metadata": {},
   "outputs": [
    {
     "data": {
      "text/plain": [
       "Ttest_indResult(statistic=225.4111346543803, pvalue=0.0)"
      ]
     },
     "execution_count": 46,
     "metadata": {},
     "output_type": "execute_result"
    }
   ],
   "source": [
    "stats.ttest_ind(train.tax_value, train.fips, alternative = 'two-sided')"
   ]
  },
  {
   "cell_type": "markdown",
   "id": "bcd3e9e9",
   "metadata": {},
   "source": [
    "### -T-Test Correlation test strongly supports a correlation between FIPS and Taxable Value"
   ]
  },
  {
   "cell_type": "markdown",
   "id": "1f72a10b",
   "metadata": {},
   "source": [
    "# Number of Bedrooms and Taxable Value"
   ]
  },
  {
   "cell_type": "code",
   "execution_count": 47,
   "id": "82bac487",
   "metadata": {
    "scrolled": true
   },
   "outputs": [
    {
     "data": {
      "text/plain": [
       "Text(0, 0.5, 'Taxable Value')"
      ]
     },
     "execution_count": 47,
     "metadata": {},
     "output_type": "execute_result"
    },
    {
     "data": {
      "image/png": "[encoded data removed]",
      "text/plain": [
       "<Figure size 640x480 with 1 Axes>"
      ]
     },
     "metadata": {},
     "output_type": "display_data"
    }
   ],
   "source": [
    "plt.title('Number of Bedrooms and Square Footage')\n",
    "sns.barplot(data=train, x=\"bedroom\", y=\"tax_value\")\n",
    "\n",
    "plt.xlabel('Number of Bedrooms')\n",
    "plt.ylabel('Taxable Value')"
   ]
  },
  {
   "cell_type": "markdown",
   "id": "dd1741f7",
   "metadata": {},
   "source": [
    "## Is Tax value dependent on the number of bedrooms?\n",
    "    Null: No, tax value is independent of the number of bedrooms\n",
    "    Alternate: Yes, there is a dependency between the two values"
   ]
  },
  {
   "cell_type": "code",
   "execution_count": 48,
   "id": "56bc9de4",
   "metadata": {},
   "outputs": [
    {
     "data": {
      "text/plain": [
       "Ttest_indResult(statistic=228.74729028221427, pvalue=0.0)"
      ]
     },
     "execution_count": 48,
     "metadata": {},
     "output_type": "execute_result"
    }
   ],
   "source": [
    "stats.ttest_ind(train.tax_value, train.bedroom, alternative = 'two-sided')"
   ]
  },
  {
   "cell_type": "markdown",
   "id": "53b453b0",
   "metadata": {},
   "source": [
    "# Modeling\n",
    "\n",
    "## Square Footage was Scaled \n",
    "    to Reduce Errors from Large Integers\n",
    "## Dummy Variables Created\n",
    "    to ready data for model analysis"
   ]
  },
  {
   "cell_type": "code",
   "execution_count": null,
   "id": "2acc2176",
   "metadata": {},
   "outputs": [],
   "source": []
  }
 ],
 "metadata": {
  "kernelspec": {
   "display_name": "Python 3 (ipykernel)",
   "language": "python",
   "name": "python3"
  },
  "language_info": {
   "codemirror_mode": {
    "name": "ipython",
    "version": 3
   },
   "file_extension": ".py",
   "mimetype": "text/x-python",
   "name": "python",
   "nbconvert_exporter": "python",
   "pygments_lexer": "ipython3",
   "version": "3.9.13"
  }
 },
 "nbformat": 4,
 "nbformat_minor": 5
}
