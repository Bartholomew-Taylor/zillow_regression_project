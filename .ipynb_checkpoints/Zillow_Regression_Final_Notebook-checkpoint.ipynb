{
 "cells": [
  {
   "cell_type": "markdown",
   "id": "914e6b7d",
   "metadata": {},
   "source": [
    "# Zillow Single Family Home Prediction Model\n",
    "\n",
    "## Goals \n",
    "\n",
    "### Provide insight into variables driving the value of Single Family Homes homes based on transactions that occured in 2017\n",
    "\n",
    "### Develop a model that performs better than our baseline model\n",
    "\n",
    "### Use Model and Data Exploration findings to provide recommends "
   ]
  },
  {
   "cell_type": "code",
   "execution_count": 1,
   "id": "452bcc25",
   "metadata": {},
   "outputs": [],
   "source": [
    "#imports from modules\n",
    "\n",
    "import warnings\n",
    "warnings.filterwarnings('ignore')\n",
    "from sklearn.metrics import precision_score\n",
    "from sklearn.metrics import accuracy_score\n",
    "from sklearn.metrics import recall_score\n",
    "from sklearn.metrics import classification_report\n",
    "from sklearn.preprocessing import MinMaxScaler\n",
    "from sklearn.preprocessing import StandardScaler\n",
    "from sklearn.preprocessing import RobustScaler\n",
    "from sklearn.model_selection import train_test_split\n",
    "from sklearn.impute import SimpleImputer\n",
    "from sklearn.linear_model import LinearRegression\n",
    "from sklearn.metrics import mean_squared_error, r2_score, explained_variance_score\n",
    "import pandas as pd\n",
    "from scipy import stats\n",
    "from pydataset import data\n",
    "import numpy as np\n",
    "import env\n",
    "import matplotlib.pyplot as plt\n",
    "import os\n",
    "import prepare\n",
    "import acquire\n",
    "import seaborn as sns\n",
    "import explore\n",
    "from math import sqrt\n",
    "from sklearn.feature_selection import SelectKBest, f_regression, RFE\n",
    "from sklearn.preprocessing import PolynomialFeatures\n",
    "from sklearn.linear_model import LassoLars\n",
    "from sklearn.linear_model import TweedieRegressor"
   ]
  },
  {
   "cell_type": "markdown",
   "id": "ec734a1f",
   "metadata": {},
   "source": [
    "# Data Acquisition and Preparation\n",
    "## Zillow 2017, Single Family Home data was acquired via SQL query"
   ]
  },
  {
   "cell_type": "code",
   "execution_count": 2,
   "id": "2859e2c1",
   "metadata": {},
   "outputs": [
    {
     "data": {
      "text/html": [
       "<div>\n",
       "<style scoped>\n",
       "    .dataframe tbody tr th:only-of-type {\n",
       "        vertical-align: middle;\n",
       "    }\n",
       "\n",
       "    .dataframe tbody tr th {\n",
       "        vertical-align: top;\n",
       "    }\n",
       "\n",
       "    .dataframe thead th {\n",
       "        text-align: right;\n",
       "    }\n",
       "</style>\n",
       "<table border=\"1\" class=\"dataframe\">\n",
       "  <thead>\n",
       "    <tr style=\"text-align: right;\">\n",
       "      <th></th>\n",
       "      <th>0</th>\n",
       "      <th>1</th>\n",
       "      <th>2</th>\n",
       "      <th>3</th>\n",
       "      <th>4</th>\n",
       "    </tr>\n",
       "  </thead>\n",
       "  <tbody>\n",
       "    <tr>\n",
       "      <th>Unnamed: 0</th>\n",
       "      <td>0</td>\n",
       "      <td>1</td>\n",
       "      <td>2</td>\n",
       "      <td>3</td>\n",
       "      <td>4</td>\n",
       "    </tr>\n",
       "    <tr>\n",
       "      <th>bedroomcnt</th>\n",
       "      <td>4.0</td>\n",
       "      <td>3.0</td>\n",
       "      <td>3.0</td>\n",
       "      <td>3.0</td>\n",
       "      <td>4.0</td>\n",
       "    </tr>\n",
       "    <tr>\n",
       "      <th>bathroomcnt</th>\n",
       "      <td>2.0</td>\n",
       "      <td>2.0</td>\n",
       "      <td>2.0</td>\n",
       "      <td>2.0</td>\n",
       "      <td>3.0</td>\n",
       "    </tr>\n",
       "    <tr>\n",
       "      <th>calculatedfinishedsquarefeet</th>\n",
       "      <td>1696.0</td>\n",
       "      <td>1470.0</td>\n",
       "      <td>1450.0</td>\n",
       "      <td>1694.0</td>\n",
       "      <td>2578.0</td>\n",
       "    </tr>\n",
       "    <tr>\n",
       "      <th>taxvaluedollarcnt</th>\n",
       "      <td>252549.0</td>\n",
       "      <td>512000.0</td>\n",
       "      <td>229856.0</td>\n",
       "      <td>294026.0</td>\n",
       "      <td>426407.0</td>\n",
       "    </tr>\n",
       "    <tr>\n",
       "      <th>yearbuilt</th>\n",
       "      <td>1960.0</td>\n",
       "      <td>1957.0</td>\n",
       "      <td>1957.0</td>\n",
       "      <td>1957.0</td>\n",
       "      <td>1963.0</td>\n",
       "    </tr>\n",
       "    <tr>\n",
       "      <th>fips</th>\n",
       "      <td>6037.0</td>\n",
       "      <td>6037.0</td>\n",
       "      <td>6037.0</td>\n",
       "      <td>6037.0</td>\n",
       "      <td>6037.0</td>\n",
       "    </tr>\n",
       "    <tr>\n",
       "      <th>transactiondate</th>\n",
       "      <td>2017-01-13</td>\n",
       "      <td>2017-01-13</td>\n",
       "      <td>2017-01-13</td>\n",
       "      <td>2017-01-13</td>\n",
       "      <td>2017-01-13</td>\n",
       "    </tr>\n",
       "  </tbody>\n",
       "</table>\n",
       "</div>"
      ],
      "text/plain": [
       "                                       0           1           2           3  \\\n",
       "Unnamed: 0                             0           1           2           3   \n",
       "bedroomcnt                           4.0         3.0         3.0         3.0   \n",
       "bathroomcnt                          2.0         2.0         2.0         2.0   \n",
       "calculatedfinishedsquarefeet      1696.0      1470.0      1450.0      1694.0   \n",
       "taxvaluedollarcnt               252549.0    512000.0    229856.0    294026.0   \n",
       "yearbuilt                         1960.0      1957.0      1957.0      1957.0   \n",
       "fips                              6037.0      6037.0      6037.0      6037.0   \n",
       "transactiondate               2017-01-13  2017-01-13  2017-01-13  2017-01-13   \n",
       "\n",
       "                                       4  \n",
       "Unnamed: 0                             4  \n",
       "bedroomcnt                           4.0  \n",
       "bathroomcnt                          3.0  \n",
       "calculatedfinishedsquarefeet      2578.0  \n",
       "taxvaluedollarcnt               426407.0  \n",
       "yearbuilt                         1963.0  \n",
       "fips                              6037.0  \n",
       "transactiondate               2017-01-13  "
      ]
     },
     "execution_count": 2,
     "metadata": {},
     "output_type": "execute_result"
    }
   ],
   "source": [
    "#function used to pull from SQL server\n",
    "df = acquire.get_zillow_sfr_data()\n",
    "df.head().T"
   ]
  },
  {
   "cell_type": "markdown",
   "id": "88067a0f",
   "metadata": {},
   "source": [
    "## Null Values:\n",
    "    250 results were eliminated from the set for null values\n",
    "## Naming Conventions\n",
    "    Column names were modified for clarity\n",
    "## Outliers Removed\n",
    "    All datapoints outside of 5 standard deviations removed\n",
    "## Dataset Split into Training, Validating, and Testing Sets"
   ]
  },
  {
   "cell_type": "code",
   "execution_count": 3,
   "id": "16a99d72",
   "metadata": {},
   "outputs": [
    {
     "data": {
      "text/plain": [
       "(38619, 6)"
      ]
     },
     "execution_count": 3,
     "metadata": {},
     "output_type": "execute_result"
    }
   ],
   "source": [
    "#function cleans nulls, outliers, names, and splits set into test, train, val\n",
    "train, val, test = prepare.clean_prep_zillow(df)\n",
    "train.shape"
   ]
  },
  {
   "cell_type": "code",
   "execution_count": 4,
   "id": "8d45a0fa",
   "metadata": {},
   "outputs": [
    {
     "data": {
      "text/html": [
       "<div>\n",
       "<style scoped>\n",
       "    .dataframe tbody tr th:only-of-type {\n",
       "        vertical-align: middle;\n",
       "    }\n",
       "\n",
       "    .dataframe tbody tr th {\n",
       "        vertical-align: top;\n",
       "    }\n",
       "\n",
       "    .dataframe thead th {\n",
       "        text-align: right;\n",
       "    }\n",
       "</style>\n",
       "<table border=\"1\" class=\"dataframe\">\n",
       "  <thead>\n",
       "    <tr style=\"text-align: right;\">\n",
       "      <th></th>\n",
       "      <th>11547</th>\n",
       "      <th>29091</th>\n",
       "      <th>19611</th>\n",
       "      <th>24109</th>\n",
       "      <th>45109</th>\n",
       "    </tr>\n",
       "  </thead>\n",
       "  <tbody>\n",
       "    <tr>\n",
       "      <th>bedroom</th>\n",
       "      <td>3.0</td>\n",
       "      <td>2.0</td>\n",
       "      <td>3.0</td>\n",
       "      <td>2.0</td>\n",
       "      <td>3.0</td>\n",
       "    </tr>\n",
       "    <tr>\n",
       "      <th>bathroom</th>\n",
       "      <td>2.0</td>\n",
       "      <td>1.0</td>\n",
       "      <td>2.0</td>\n",
       "      <td>1.0</td>\n",
       "      <td>2.0</td>\n",
       "    </tr>\n",
       "    <tr>\n",
       "      <th>sqrft</th>\n",
       "      <td>1659.0</td>\n",
       "      <td>1070.0</td>\n",
       "      <td>1085.0</td>\n",
       "      <td>1112.0</td>\n",
       "      <td>1316.0</td>\n",
       "    </tr>\n",
       "    <tr>\n",
       "      <th>tax_value</th>\n",
       "      <td>236760.0</td>\n",
       "      <td>360606.0</td>\n",
       "      <td>341328.0</td>\n",
       "      <td>372312.0</td>\n",
       "      <td>381638.0</td>\n",
       "    </tr>\n",
       "    <tr>\n",
       "      <th>year_built</th>\n",
       "      <td>1958.0</td>\n",
       "      <td>1920.0</td>\n",
       "      <td>1993.0</td>\n",
       "      <td>1949.0</td>\n",
       "      <td>1949.0</td>\n",
       "    </tr>\n",
       "    <tr>\n",
       "      <th>fips</th>\n",
       "      <td>6037.0</td>\n",
       "      <td>6037.0</td>\n",
       "      <td>6059.0</td>\n",
       "      <td>6037.0</td>\n",
       "      <td>6037.0</td>\n",
       "    </tr>\n",
       "  </tbody>\n",
       "</table>\n",
       "</div>"
      ],
      "text/plain": [
       "               11547     29091     19611     24109     45109\n",
       "bedroom          3.0       2.0       3.0       2.0       3.0\n",
       "bathroom         2.0       1.0       2.0       1.0       2.0\n",
       "sqrft         1659.0    1070.0    1085.0    1112.0    1316.0\n",
       "tax_value   236760.0  360606.0  341328.0  372312.0  381638.0\n",
       "year_built    1958.0    1920.0    1993.0    1949.0    1949.0\n",
       "fips          6037.0    6037.0    6059.0    6037.0    6037.0"
      ]
     },
     "execution_count": 4,
     "metadata": {},
     "output_type": "execute_result"
    }
   ],
   "source": [
    "#checking for accuracy\n",
    "train.head().T"
   ]
  },
  {
   "cell_type": "markdown",
   "id": "945c7278",
   "metadata": {},
   "source": [
    "# Exploration\n",
    "## Intial Questions Guiding Exploration\n",
    "### -Does square footage influence value?\n",
    "### -Is the tax value dependent on the number of bathrooms?\n",
    "### -Is Tax value dependent on FIPS?\n",
    "### -Is Tax value dependent on the number of bedrooms?\n"
   ]
  },
  {
   "cell_type": "code",
   "execution_count": 28,
   "id": "47e1f385",
   "metadata": {},
   "outputs": [
    {
     "data": {
      "image/png": "[encoded data removed]",
      "text/plain": [
       "<Figure size 640x480 with 2 Axes>"
      ]
     },
     "metadata": {},
     "output_type": "display_data"
    }
   ],
   "source": [
    "#heat map of correlation\n",
    "sns.heatmap(train.corr(), annot = True)\n",
    "plt.show()"
   ]
  },
  {
   "cell_type": "markdown",
   "id": "e5416c3c",
   "metadata": {},
   "source": [
    "# Square Footage and Taxable Value\n",
    "### -Is there a correlation between tax value and sqrft?\n",
    "    Null: There is no correlation between tax value and sqrft\n",
    "    Alternate: There is a significant correlation between tax value and sqrft"
   ]
  },
  {
   "cell_type": "code",
   "execution_count": 5,
   "id": "ba0fd804",
   "metadata": {
    "scrolled": false
   },
   "outputs": [
    {
     "data": {
      "image/png": "[encoded data removed]",
      "text/plain": [
       "<Figure size 1000x500 with 1 Axes>"
      ]
     },
     "metadata": {},
     "output_type": "display_data"
    }
   ],
   "source": [
    "#binning sqft for visual\n",
    "train['sqft_bin'] = pd.qcut(train['sqrft'], 20, labels = ['1','2','3','4','5','6',\n",
    "                                                          '7','8','9','10','11','12','13','14','15',\n",
    "                                                         '16','17','18','19','20'])\n",
    "\n",
    "#plots visual\n",
    "plt.figure(figsize=(10,5))\n",
    "plt.title('Taxable Value and Square Footage')\n",
    "\n",
    "sns.barplot(data=train, x=\"sqft_bin\", y=\"tax_value\")\n",
    "plt.xlabel('Square Footage **In 20 Tiers')\n",
    "plt.ylabel('Taxable Value')\n",
    "plt.show()"
   ]
  },
  {
   "cell_type": "code",
   "execution_count": 6,
   "id": "15edc8c1",
   "metadata": {},
   "outputs": [
    {
     "data": {
      "text/plain": [
       "SpearmanrResult(correlation=0.5151300732092542, pvalue=0.0)"
      ]
     },
     "execution_count": 6,
     "metadata": {},
     "output_type": "execute_result"
    }
   ],
   "source": [
    "#spearman r test for correlation\n",
    "alpha = 0.05\n",
    "\n",
    "v_vs_sf = stats.spearmanr(train.tax_value, train.sqrft)\n",
    "v_vs_sf"
   ]
  },
  {
   "cell_type": "markdown",
   "id": "4a33d5f3",
   "metadata": {},
   "source": [
    "\n",
    "### -Spearman Correlation test strongly supports a correlation between Square Footage and Taxable Value"
   ]
  },
  {
   "cell_type": "markdown",
   "id": "0771f23c",
   "metadata": {},
   "source": [
    "# Number of Bathrooms and Taxable Value\n",
    "\n",
    "## Is the tax value dependent on the number of bathrooms?\n",
    "    Null: Tax value and the number of bathrooms are independent of one another.\n",
    "    Alternate: The two values are dependent on each other."
   ]
  },
  {
   "cell_type": "code",
   "execution_count": 7,
   "id": "cb584371",
   "metadata": {
    "scrolled": true
   },
   "outputs": [
    {
     "data": {
      "text/plain": [
       "Text(0, 0.5, 'Taxable Value')"
      ]
     },
     "execution_count": 7,
     "metadata": {},
     "output_type": "execute_result"
    },
    {
     "data": {
      "image/png": "[encoded data removed]",
      "text/plain": [
       "<Figure size 1000x500 with 1 Axes>"
      ]
     },
     "metadata": {},
     "output_type": "display_data"
    }
   ],
   "source": [
    "#sets up visual\n",
    "plt.figure(figsize=(10,5))\n",
    "plt.title('Number of Bathrooms and Square Footage')\n",
    "sns.barplot(data=train, x=\"bathroom\", y=\"tax_value\")\n",
    "\n",
    "plt.xlabel('Number of Bathrooms')\n",
    "plt.ylabel('Taxable Value')\n"
   ]
  },
  {
   "cell_type": "markdown",
   "id": "886ab409",
   "metadata": {},
   "source": []
  },
  {
   "cell_type": "code",
   "execution_count": 8,
   "id": "ec77587d",
   "metadata": {
    "scrolled": true
   },
   "outputs": [
    {
     "data": {
      "text/plain": [
       "Ttest_indResult(statistic=228.74788437149323, pvalue=0.0)"
      ]
     },
     "execution_count": 8,
     "metadata": {},
     "output_type": "execute_result"
    }
   ],
   "source": [
    "#T-test for independence \n",
    "stats.ttest_ind(train.tax_value, train.bathroom, alternative = 'two-sided')"
   ]
  },
  {
   "cell_type": "markdown",
   "id": "098be0bb",
   "metadata": {},
   "source": [
    "### -T-Test Correlation test strongly supports a correlation between Square Footage and Taxable Value\n"
   ]
  },
  {
   "cell_type": "markdown",
   "id": "4804e552",
   "metadata": {},
   "source": [
    "# FIPS and Tax Value\n",
    "## Is there a dependence between FIPS and Tax Value?\n",
    "    Null: there is no dependence between FIPS and Tax Value\n",
    "    Alt: there is a dependence between FIPS and Tax Value"
   ]
  },
  {
   "cell_type": "code",
   "execution_count": 9,
   "id": "3f3d2dc6",
   "metadata": {
    "scrolled": true
   },
   "outputs": [
    {
     "data": {
      "text/plain": [
       "Text(0, 0.5, 'Taxable Value')"
      ]
     },
     "execution_count": 9,
     "metadata": {},
     "output_type": "execute_result"
    },
    {
     "data": {
      "image/png": "[encoded data removed]",
      "text/plain": [
       "<Figure size 640x480 with 1 Axes>"
      ]
     },
     "metadata": {},
     "output_type": "display_data"
    }
   ],
   "source": [
    "#sets up barplot for fips\n",
    "plt.title('FIPS and Tax Value')\n",
    "sns.barplot(data=train, x=\"fips\", y=\"tax_value\")\n",
    "\n",
    "plt.xlabel('FIPS')\n",
    "plt.ylabel('Taxable Value')"
   ]
  },
  {
   "cell_type": "code",
   "execution_count": 10,
   "id": "dc55eba6",
   "metadata": {},
   "outputs": [
    {
     "data": {
      "text/plain": [
       "Ttest_indResult(statistic=225.4111346543803, pvalue=0.0)"
      ]
     },
     "execution_count": 10,
     "metadata": {},
     "output_type": "execute_result"
    }
   ],
   "source": [
    "#T-test for independence \n",
    "stats.ttest_ind(train.tax_value, train.fips, alternative = 'two-sided')"
   ]
  },
  {
   "cell_type": "markdown",
   "id": "c8c3da69",
   "metadata": {},
   "source": [
    "### -T-Test strongly supports a dependence between FIPS and Taxable Value"
   ]
  },
  {
   "cell_type": "markdown",
   "id": "018c2b97",
   "metadata": {},
   "source": [
    "# Number of Bedrooms and Taxable Value\n",
    "\n",
    "## Is Tax value dependent on the number of bedrooms?\n",
    "    Null: No, tax value is independent of the number of bedrooms\n",
    "    Alternate: Yes, there is a dependency between the two values"
   ]
  },
  {
   "cell_type": "code",
   "execution_count": 11,
   "id": "e9fb29e7",
   "metadata": {
    "scrolled": true
   },
   "outputs": [
    {
     "data": {
      "text/plain": [
       "Text(0, 0.5, 'Taxable Value')"
      ]
     },
     "execution_count": 11,
     "metadata": {},
     "output_type": "execute_result"
    },
    {
     "data": {
      "image/png": "[encoded data removed]",
      "text/plain": [
       "<Figure size 1000x500 with 1 Axes>"
      ]
     },
     "metadata": {},
     "output_type": "display_data"
    }
   ],
   "source": [
    "#sets up barplot for # of bedrooms\n",
    "plt.figure(figsize=(10,5))\n",
    "plt.title('Number of Bedrooms and Square Footage')\n",
    "sns.barplot(data=train, x=\"bedroom\", y=\"tax_value\")\n",
    "\n",
    "plt.xlabel('Number of Bedrooms')\n",
    "plt.ylabel('Taxable Value')"
   ]
  },
  {
   "cell_type": "code",
   "execution_count": 12,
   "id": "3257bb6e",
   "metadata": {},
   "outputs": [
    {
     "data": {
      "text/plain": [
       "Ttest_indResult(statistic=228.74729028221427, pvalue=0.0)"
      ]
     },
     "execution_count": 12,
     "metadata": {},
     "output_type": "execute_result"
    }
   ],
   "source": [
    "#stats test T-test \n",
    "stats.ttest_ind(train.tax_value, train.bedroom, alternative = 'two-sided')"
   ]
  },
  {
   "cell_type": "markdown",
   "id": "811a7b09",
   "metadata": {},
   "source": [
    "### -T-Test Correlation test strongly supports a dependence between Number of Bedrooms and Taxable Value"
   ]
  },
  {
   "cell_type": "markdown",
   "id": "3846a019",
   "metadata": {},
   "source": [
    "# Exploration Takeaways \n",
    "## -Stats analysis indicates a relationship between Square Footage, Number of Bedrooms/Bathrooms, and our Target Varible: Taxable Value\n",
    "## -Influence of location (FIPS), does not appear as strong as the former three but shows correlation in analysis"
   ]
  },
  {
   "cell_type": "markdown",
   "id": "665af0aa",
   "metadata": {},
   "source": [
    "# Modeling\n",
    "\n",
    "## Square Footage was Scaled \n",
    "    to Reduce Errors from Large Integers\n",
    "## Dummy Variables Created\n",
    "    to ready data for model analysis\n",
    "## Regressive Feature Elimination Used\n",
    "    to reduce influence of features that show little effect on Tax Value"
   ]
  },
  {
   "cell_type": "code",
   "execution_count": 13,
   "id": "89a554a2",
   "metadata": {},
   "outputs": [],
   "source": [
    "#splits apart the target variable\n",
    "x_train, y_train, x_val, y_val, x_test, y_test = prepare.modeling_split(train, val, test, 'tax_value')"
   ]
  },
  {
   "cell_type": "code",
   "execution_count": 14,
   "id": "0ec6a058",
   "metadata": {},
   "outputs": [],
   "source": [
    "#scales sqare footage and removes bins from visualization\n",
    "x_train_scaled, x_val_scaled, x_test_scaled = prepare.prep_2_model(x_train, \n",
    "                                                                   x_val, x_test, x_train)\n",
    "x_train_scaled.drop(columns = ['sqft_bin'], inplace = True)"
   ]
  },
  {
   "cell_type": "markdown",
   "id": "9856a6b7",
   "metadata": {},
   "source": [
    "# Polynomial Regression\n"
   ]
  },
  {
   "cell_type": "code",
   "execution_count": 15,
   "id": "c0047a26",
   "metadata": {},
   "outputs": [],
   "source": [
    "#sets up and fits polynomial transform and fits Regression\n",
    "pf = PolynomialFeatures(degree = 2)\n",
    "pf.fit(x_train_scaled, y_train)\n",
    "x_poly=pf.transform(x_train_scaled)\n",
    "lmtwo = LinearRegression()\n",
    "lmtwo.fit(x_poly, y_train)\n",
    "#creates dataframe for rmse comparisons\n",
    "preds_df = pd.DataFrame({'actual': y_train})\n",
    "preds_df['baseline'] = preds_df.actual.mean()"
   ]
  },
  {
   "cell_type": "code",
   "execution_count": 16,
   "id": "13b1d0df",
   "metadata": {},
   "outputs": [
    {
     "data": {
      "text/plain": [
       "356106.2796197136"
      ]
     },
     "execution_count": 16,
     "metadata": {},
     "output_type": "execute_result"
    }
   ],
   "source": [
    "#baseline rmse\n",
    "base_rmse = sqrt(mean_squared_error(preds_df['baseline'], preds_df['actual']))\n",
    "base_rmse"
   ]
  },
  {
   "cell_type": "markdown",
   "id": "8bbda5ab",
   "metadata": {},
   "source": [
    "## Baseline RMS Error is 356,106"
   ]
  },
  {
   "cell_type": "code",
   "execution_count": 17,
   "id": "b78f313f",
   "metadata": {},
   "outputs": [
    {
     "data": {
      "text/plain": [
       "266794.15823686164"
      ]
     },
     "execution_count": 17,
     "metadata": {},
     "output_type": "execute_result"
    }
   ],
   "source": [
    "#polynomial rmse\n",
    "preds_df['poly_preds_train'] = lmtwo.predict(x_poly)\n",
    "sqrt(mean_squared_error(preds_df['poly_preds_train'], preds_df['actual']))"
   ]
  },
  {
   "cell_type": "markdown",
   "id": "be0bd780",
   "metadata": {},
   "source": [
    "## Polynomial Regresion Training RMS Error 266,794"
   ]
  },
  {
   "cell_type": "code",
   "execution_count": 18,
   "id": "122aee52",
   "metadata": {},
   "outputs": [],
   "source": [
    "#sets up validation prediction\n",
    "x_poly_val = pf.transform(x_val_scaled)\n",
    "preds_df_val = pd.DataFrame({'actual': y_val})\n",
    "preds_df_val['poly_preds_val'] = lmtwo.predict(x_poly_val)"
   ]
  },
  {
   "cell_type": "code",
   "execution_count": 19,
   "id": "47fa45c9",
   "metadata": {},
   "outputs": [
    {
     "data": {
      "text/plain": [
       "236924059339063.16"
      ]
     },
     "execution_count": 19,
     "metadata": {},
     "output_type": "execute_result"
    }
   ],
   "source": [
    "#validation rmse\n",
    "sqrt(mean_squared_error(preds_df_val['poly_preds_val'], preds_df_val['actual']))"
   ]
  },
  {
   "cell_type": "markdown",
   "id": "37a83a3e",
   "metadata": {},
   "source": [
    "## Polynomial Regresion Validation RMS Error 236,924"
   ]
  },
  {
   "cell_type": "markdown",
   "id": "ab3b1303",
   "metadata": {},
   "source": [
    "# Lasso Lars "
   ]
  },
  {
   "cell_type": "code",
   "execution_count": 20,
   "id": "6600a9cd",
   "metadata": {},
   "outputs": [
    {
     "data": {
      "text/plain": [
       "270926.5503506549"
      ]
     },
     "execution_count": 20,
     "metadata": {},
     "output_type": "execute_result"
    }
   ],
   "source": [
    "#sets up Lasso Lars\n",
    "lasso = LassoLars(alpha = 0.15)\n",
    "lasso.fit(x_train_scaled, y_train)\n",
    "lasso_preds = lasso.predict(x_train_scaled)\n",
    "#adds preds to dataframe and rmse\n",
    "preds_df['lasso_preds'] = lasso_preds\n",
    "sqrt(mean_squared_error(preds_df['lasso_preds'], preds_df['actual']))"
   ]
  },
  {
   "cell_type": "markdown",
   "id": "39bf8011",
   "metadata": {},
   "source": [
    "## Lasso Lars Training RMS Error 270,926"
   ]
  },
  {
   "cell_type": "code",
   "execution_count": 21,
   "id": "3137c6ed",
   "metadata": {},
   "outputs": [],
   "source": [
    "#adds lasso val predictions to dataframe\n",
    "preds_df_val['lasso_preds_val'] = lasso.predict(x_val_scaled)\n"
   ]
  },
  {
   "cell_type": "code",
   "execution_count": 22,
   "id": "4e31dea2",
   "metadata": {},
   "outputs": [
    {
     "data": {
      "text/plain": [
       "275842.2650299213"
      ]
     },
     "execution_count": 22,
     "metadata": {},
     "output_type": "execute_result"
    }
   ],
   "source": [
    "#lasso val rmse\n",
    "sqrt(mean_squared_error(preds_df_val['lasso_preds_val'], preds_df_val['actual']))"
   ]
  },
  {
   "cell_type": "markdown",
   "id": "a1551e5d",
   "metadata": {},
   "source": [
    "## Lasso Lars Validation RMS Error 275,842"
   ]
  },
  {
   "cell_type": "markdown",
   "id": "0da71740",
   "metadata": {},
   "source": [
    "# Tweedie Reggresion "
   ]
  },
  {
   "cell_type": "code",
   "execution_count": 23,
   "id": "fa95c10a",
   "metadata": {},
   "outputs": [],
   "source": [
    "#sets up Tweedie and adds to dataframe\n",
    "tweedie = TweedieRegressor(power = 1)\n",
    "tweedie.fit(x_train_scaled, y_train)\n",
    "preds_df['tweedie'] = tweedie.predict(x_train_scaled)"
   ]
  },
  {
   "cell_type": "code",
   "execution_count": 24,
   "id": "35449f36",
   "metadata": {},
   "outputs": [
    {
     "data": {
      "text/plain": [
       "273909.17140425305"
      ]
     },
     "execution_count": 24,
     "metadata": {},
     "output_type": "execute_result"
    }
   ],
   "source": [
    "#tweedie rmse\n",
    "tweedie_rmse = sqrt(mean_squared_error(preds_df['actual'], preds_df['tweedie']))\n",
    "tweedie_rmse"
   ]
  },
  {
   "cell_type": "markdown",
   "id": "e5c684e8",
   "metadata": {},
   "source": [
    "## Tweedie Regression Training RMS Error 273,909"
   ]
  },
  {
   "cell_type": "code",
   "execution_count": 25,
   "id": "99c71a32",
   "metadata": {},
   "outputs": [
    {
     "data": {
      "text/plain": [
       "279598.3417227043"
      ]
     },
     "execution_count": 25,
     "metadata": {},
     "output_type": "execute_result"
    }
   ],
   "source": [
    "#tweedie val rmse\n",
    "preds_df_val['tweedie_val'] = tweedie.predict(x_val_scaled)\n",
    "tweedie_val_rmse = sqrt(mean_squared_error(preds_df_val['tweedie_val'], preds_df_val['actual']))\n",
    "tweedie_val_rmse"
   ]
  },
  {
   "cell_type": "markdown",
   "id": "b94da5f6",
   "metadata": {},
   "source": [
    "## Tweedie Regression Validation RMS Error 273,909"
   ]
  },
  {
   "cell_type": "markdown",
   "id": "79c3bea9",
   "metadata": {},
   "source": [
    "# Highest Performer: Tweedie Regression\n"
   ]
  },
  {
   "cell_type": "code",
   "execution_count": 26,
   "id": "9fb810e5",
   "metadata": {},
   "outputs": [],
   "source": [
    "#setting up test set with highest performer\n",
    "\n",
    "preds_df_test = pd.DataFrame({'actual': y_test})\n",
    "preds_df_test['tweedie_test'] = tweedie.predict(x_test_scaled)\n",
    "tweedie_test = sqrt(mean_squared_error(preds_df_test['tweedie_test'], preds_df_test['actual']))"
   ]
  },
  {
   "cell_type": "code",
   "execution_count": 27,
   "id": "7ce97702",
   "metadata": {},
   "outputs": [
    {
     "data": {
      "text/plain": [
       "72836.39716048498"
      ]
     },
     "execution_count": 27,
     "metadata": {},
     "output_type": "execute_result"
    }
   ],
   "source": [
    "#calulates margin of improvment off baseline\n",
    "base_rmse - tweedie_test"
   ]
  },
  {
   "cell_type": "markdown",
   "id": "6b96cc1b",
   "metadata": {},
   "source": [
    "## Best Model performed better than baseline by 72,836 RMS Error "
   ]
  },
  {
   "cell_type": "markdown",
   "id": "ca3ac93b",
   "metadata": {},
   "source": [
    "# Conclusions\n",
    "### Findings from Exploration and Model Development reveal an emphasis on Square Footage as a driver but indicate heavily that features like; Number of Bedrooms/Bathrooms also play a significant role.\n",
    "### Action should be taken to look more closely at other quantifiable features in homes such as number of dinning and den areas, fireplaces, and accessory structures like sheds."
   ]
  },
  {
   "cell_type": "markdown",
   "id": "ee0b595b",
   "metadata": {},
   "source": [
    "# Future Directions and Next Steps\n",
    "### If this project is to be taken further it would be beneficial to look at more features, including luxury elements and expand location data.  Additionally, using this model to to look at other housing datasets may have unexpected value."
   ]
  },
  {
   "cell_type": "code",
   "execution_count": null,
   "id": "b828db40",
   "metadata": {},
   "outputs": [],
   "source": []
  }
 ],
 "metadata": {
  "kernelspec": {
   "display_name": "Python 3 (ipykernel)",
   "language": "python",
   "name": "python3"
  },
  "language_info": {
   "codemirror_mode": {
    "name": "ipython",
    "version": 3
   },
   "file_extension": ".py",
   "mimetype": "text/x-python",
   "name": "python",
   "nbconvert_exporter": "python",
   "pygments_lexer": "ipython3",
   "version": "3.9.13"
  }
 },
 "nbformat": 4,
 "nbformat_minor": 5
}
